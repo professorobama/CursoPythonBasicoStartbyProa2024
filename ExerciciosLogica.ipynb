{
  "cells": [
    {
      "cell_type": "markdown",
      "metadata": {
        "id": "view-in-github",
        "colab_type": "text"
      },
      "source": [
        "<a href=\"https://colab.research.google.com/github/professorobama/CursoPythonBasicoStartbyProa2024/blob/main/ExerciciosLogica.ipynb\" target=\"_parent\"><img src=\"https://colab.research.google.com/assets/colab-badge.svg\" alt=\"Open In Colab\"/></a>"
      ]
    },
    {
      "cell_type": "markdown",
      "metadata": {
        "id": "dANeC2UB91Aa"
      },
      "source": [
        "1) Solicitar dois valores, efetuar a soma e exibir o resultado."
      ]
    },
    {
      "cell_type": "code",
      "execution_count": null,
      "metadata": {
        "colab": {
          "base_uri": "https://localhost:8080/"
        },
        "id": "45lDl4DM9yhS",
        "outputId": "715af032-b5e6-4365-a5c9-a9310d21ef5c"
      },
      "outputs": [
        {
          "name": "stdout",
          "output_type": "stream",
          "text": [
            "Digite um número :9\n",
            "Digite outro número :23\n",
            "A soma dos valores é  : 32\n"
          ]
        }
      ],
      "source": [
        "numero01=int(input(\"Digite um número :\"))\n",
        "numero02=int(input(\"Digite outro número :\"))\n",
        "soma=numero01+numero02\n",
        "print(\"A soma dos valores é  :\",soma)"
      ]
    },
    {
      "cell_type": "code",
      "execution_count": null,
      "metadata": {
        "id": "ZnFzhpZp9-b0"
      },
      "outputs": [],
      "source": []
    },
    {
      "cell_type": "markdown",
      "metadata": {
        "id": "BF0LdRHuEylQ"
      },
      "source": [
        "2) Solicitar dois valores, efetuar a subtração e depois exibir o resultado."
      ]
    },
    {
      "cell_type": "code",
      "execution_count": null,
      "metadata": {
        "colab": {
          "base_uri": "https://localhost:8080/"
        },
        "id": "nYnLo4bmFCLq",
        "outputId": "4d71cbc7-19b7-46ea-9b52-9ebc4caa4d8b"
      },
      "outputs": [
        {
          "name": "stdout",
          "output_type": "stream",
          "text": [
            "Digite um número :30\n",
            "Digite outro número :4\n",
            "A subtracao dos numeros é :  26\n"
          ]
        }
      ],
      "source": [
        "numero01=int(input(\"Digite um número :\"))\n",
        "numero02=int(input(\"Digite outro número :\"))\n",
        "subtracao=numero01-numero02\n",
        "print(\"A subtracao dos numeros é : \", subtracao)"
      ]
    },
    {
      "cell_type": "markdown",
      "metadata": {
        "id": "0QcJMDHrjVYw"
      },
      "source": [
        "3) Solicitar dois valores, efetuar a multiplicação e depois exibir o resultado."
      ]
    },
    {
      "cell_type": "code",
      "execution_count": null,
      "metadata": {
        "colab": {
          "base_uri": "https://localhost:8080/"
        },
        "id": "ta7zJYu1j4db",
        "outputId": "643a0d0a-3283-47f5-f915-435e9c21cf3a"
      },
      "outputs": [
        {
          "name": "stdout",
          "output_type": "stream",
          "text": [
            "Digite um número2\n",
            "Digite um número3\n",
            "A multiplicação dos números digitados é : 6\n"
          ]
        }
      ],
      "source": [
        "numero01 = int(input(\"Digite um número\"))\n",
        "numero02 = int(input(\"Digite um número\"))\n",
        "multiplicacao=numero01*numero02\n",
        "print(\"A multiplicação dos números digitados é :\",multiplicacao)"
      ]
    },
    {
      "cell_type": "markdown",
      "metadata": {
        "id": "JIKkso4_j1T4"
      },
      "source": [
        "4) Solicitar dois valores, efetuar a divisão e depois exibir o resultado."
      ]
    },
    {
      "cell_type": "code",
      "execution_count": null,
      "metadata": {
        "colab": {
          "base_uri": "https://localhost:8080/"
        },
        "id": "Rv1-E9gxjh5d",
        "outputId": "7cd64d99-b124-47db-e373-20123d706fed"
      },
      "outputs": [
        {
          "name": "stdout",
          "output_type": "stream",
          "text": [
            "Digite um número10\n",
            "Digite um número2\n",
            "O valor da divisão é :  5.0\n"
          ]
        }
      ],
      "source": [
        "numero01 = int(input(\"Digite um número\"))\n",
        "numero02 = int(input(\"Digite um número\"))\n",
        "divisao =numero01/numero02\n",
        "print(\"O valor da divisão é : \", divisao)"
      ]
    },
    {
      "cell_type": "markdown",
      "metadata": {
        "id": "5PdRYcxoTRKr"
      },
      "source": [
        "5) Escreva um algoritmo para ler um valor (do teclado) e escrever (na tela) o seu antecessor."
      ]
    },
    {
      "cell_type": "code",
      "execution_count": null,
      "metadata": {
        "colab": {
          "base_uri": "https://localhost:8080/"
        },
        "id": "VYtlxWuxTVMz",
        "outputId": "37a4acc3-3a1a-479d-c17e-86c64c7c1e27"
      },
      "outputs": [
        {
          "name": "stdout",
          "output_type": "stream",
          "text": [
            "Digite um numero :9\n",
            "O antecessor do número digitado é :  8\n"
          ]
        }
      ],
      "source": [
        "numero01=int(input(\"Digite um numero :\"))\n",
        "antecessor=numero01-1\n",
        "print(\"O antecessor do número digitado é : \",antecessor)"
      ]
    },
    {
      "cell_type": "markdown",
      "metadata": {
        "id": "K17uMv-LTVzs"
      },
      "source": [
        "6) Escreva um algoritmo para ler um valor (do teclado) e escrever (na tela) o seu sucessor."
      ]
    },
    {
      "cell_type": "code",
      "execution_count": null,
      "metadata": {
        "colab": {
          "base_uri": "https://localhost:8080/"
        },
        "id": "ukM4i1OkThyc",
        "outputId": "dc74838b-e408-4ee6-ba29-2a16b6b2ee1b"
      },
      "outputs": [
        {
          "name": "stdout",
          "output_type": "stream",
          "text": [
            "Digite um valor :15\n",
            "O sucessor do número digitado é :  16\n"
          ]
        }
      ],
      "source": [
        "numero=int(input(\"Digite um valor :\"))\n",
        "sucessor=numero+1\n",
        "print(\"O sucessor do número digitado é : \", sucessor)\n"
      ]
    },
    {
      "cell_type": "markdown",
      "metadata": {
        "id": "pIkK7d0YVu8j"
      },
      "source": [
        "7) Escreva um algoritmo para ler as dimensões de um retângulo (base e altura), calcular e escrever a área do retângulo."
      ]
    },
    {
      "cell_type": "code",
      "execution_count": null,
      "metadata": {
        "colab": {
          "base_uri": "https://localhost:8080/"
        },
        "id": "DxGW9XMZV394",
        "outputId": "fc54bc18-20ae-4c87-bc78-b3ded74be4fa"
      },
      "outputs": [
        {
          "name": "stdout",
          "output_type": "stream",
          "text": [
            "Digite o valor da base : 1.14\n",
            "Digite o valor da altura : 3.14\n",
            "O resultado da multiplicação é :  3.5795999999999997\n"
          ]
        }
      ],
      "source": [
        "base = float(input(\"Digite o valor da base : \"))\n",
        "altura = float(input(\"Digite o valor da altura : \"))\n",
        "area = base* altura\n",
        "print(\"O resultado da multiplicação é : \",area)"
      ]
    },
    {
      "cell_type": "markdown",
      "metadata": {
        "id": "Xpl-BB4kWfJ7"
      },
      "source": [
        "8) Escreva um algoritmo para ler as dimensões de um triângulo (base e altura), calcular e escrever a área do triângulo."
      ]
    },
    {
      "cell_type": "code",
      "execution_count": null,
      "metadata": {
        "colab": {
          "base_uri": "https://localhost:8080/"
        },
        "id": "hO86NDAZWlRq",
        "outputId": "68ca1ec5-0d92-43c0-ff93-a795ba0cb60e"
      },
      "outputs": [
        {
          "name": "stdout",
          "output_type": "stream",
          "text": [
            "Digite a base do triângulo : 10\n",
            "Digite o valor da altura :5\n",
            "O valor da area é :  25.0\n"
          ]
        }
      ],
      "source": [
        "base=float(input(\"Digite a base do triângulo : \"))\n",
        "altura=float(input(\"Digite o valor da altura :\"))\n",
        "area=base*altura/2\n",
        "print(\"O valor da area é : \",area)"
      ]
    },
    {
      "cell_type": "markdown",
      "metadata": {
        "id": "BuR6XjJ_cD_h"
      },
      "source": [
        "9) Faça um algoritmo que leia a idade de uma pessoa expressa em anos, meses e dias e escreva a idade dessa pessoa expressa apenas em dias. Considerar ano com 365 dias e mês com 30 dias."
      ]
    },
    {
      "cell_type": "code",
      "execution_count": null,
      "metadata": {
        "colab": {
          "base_uri": "https://localhost:8080/"
        },
        "id": "yLweSeVbcFE0",
        "outputId": "67584491-f4e7-4c6e-f1bd-bec4b31c9828"
      },
      "outputs": [
        {
          "name": "stdout",
          "output_type": "stream",
          "text": [
            "Digite a sua idade expressa em anos :18\n",
            "Digite a quantidade de meses passados do seu último aniversário :4\n",
            "Digite a quantidade de dias passados do seu último mesversário :0\n",
            "A quantidade de dias vividos corresponde a :  6690\n"
          ]
        }
      ],
      "source": [
        "ano =int(input(\"Digite a sua idade expressa em anos :\"))\n",
        "meses = int(input(\"Digite a quantidade de meses passados do seu último aniversário :\"))\n",
        "dias =int(input(\"Digite a quantidade de dias passados do seu último mesversário :\"))\n",
        "diasvividos = ano*365 + meses*30 + dias\n",
        "print(\"A quantidade de dias vividos corresponde a : \", diasvividos)"
      ]
    },
    {
      "cell_type": "markdown",
      "metadata": {
        "id": "M8oCyj0BkYrs"
      },
      "source": [
        "10) Escreva um algoritmo para ler o número total de eleitores de um município, o número de votos brancos, nulos e válidos. Calcular e escrever o percentual que cada um representa em relação ao total de eleitores."
      ]
    },
    {
      "cell_type": "code",
      "execution_count": null,
      "metadata": {
        "colab": {
          "base_uri": "https://localhost:8080/"
        },
        "id": "83nsJURDkjkO",
        "outputId": "fd32382f-2028-419d-a9a9-e5be82591d26"
      },
      "outputs": [
        {
          "name": "stdout",
          "output_type": "stream",
          "text": [
            "Digite o número total de eleitores :1000\n",
            "Digite o número total de votos brancos :100\n",
            "Digite o número total de votos nulos :100\n",
            "Digite o número total de votos válidos :800\n",
            " O número em porcentagem de votos brancos é :  10.0 %\n",
            " O número em porcentagem de votos nulos é :  10.0 %\n",
            " O número em porcentagem de votos válidos é :  80.0 %\n"
          ]
        }
      ],
      "source": [
        "numeroTotalEleitores = int(input(\"Digite o número total de eleitores :\"))\n",
        "numeroTotalVotosBrancos = int(input(\"Digite o número total de votos brancos :\"))\n",
        "numeroTotalVotosNulos = int(input(\"Digite o número total de votos nulos :\"))\n",
        "numeroTotalVotosValidos = int(input(\"Digite o número total de votos válidos :\"))\n",
        "porcentagemVotosBrancos = (numeroTotalVotosBrancos/numeroTotalEleitores)*100\n",
        "porcentagemVotosNulos = (numeroTotalVotosNulos/numeroTotalEleitores)*100\n",
        "porcentagemVotosValidos = (numeroTotalVotosValidos/numeroTotalEleitores)*100\n",
        "print(\" O número em porcentagem de votos brancos é : \", porcentagemVotosBrancos,\"%\")\n",
        "print(\" O número em porcentagem de votos nulos é : \", porcentagemVotosNulos,\"%\")\n",
        "print(\" O número em porcentagem de votos válidos é : \", porcentagemVotosValidos,\"%\")"
      ]
    },
    {
      "cell_type": "markdown",
      "metadata": {
        "id": "s9Ng5GDRi0tC"
      },
      "source": [
        "11) Escreva um algoritmo para ler o salário mensal atual de um funcionário e o percentual de reajuste. Calcular e escrever o valor do novo salário.\n"
      ]
    },
    {
      "cell_type": "code",
      "execution_count": null,
      "metadata": {
        "colab": {
          "base_uri": "https://localhost:8080/"
        },
        "id": "Mc8zdOFyh7hX",
        "outputId": "5593a792-421d-457b-bd09-7dac15b6b992"
      },
      "outputs": [
        {
          "name": "stdout",
          "output_type": "stream",
          "text": [
            "Digite o seu salário mensal :1000\n",
            "Digite o seu percentual de reajuste :10\n",
            "o novo salário do funcionário é :  R$ 1100.0\n"
          ]
        }
      ],
      "source": [
        "salarioMensal = float(input(\"Digite o seu salário mensal :\"))\n",
        "percentualReajuste = float(input(\"Digite o seu percentual de reajuste :\"))\n",
        "reajusteReal = (salarioMensal*percentualReajuste)/100\n",
        "novoSalario = salarioMensal+ reajusteReal\n",
        "print(\"o novo salário do funcionário é :  R$\", novoSalario)"
      ]
    },
    {
      "cell_type": "markdown",
      "metadata": {
        "id": "Zel1_mXHkyoW"
      },
      "source": [
        "12) O custo de um carro novo ao consumidor é a soma do custo de fábrica com a porcentagem do distribuidor e dos impostos (aplicados ao custo de fábrica). Supondo que o percentual do distribuidor seja de 28% e os impostos de 45%, escrever um algoritmo para ler o custo de fábrica de um carro, calcular e escrever o custo final ao consumidor."
      ]
    },
    {
      "cell_type": "code",
      "execution_count": null,
      "metadata": {
        "colab": {
          "base_uri": "https://localhost:8080/"
        },
        "id": "DDukI4ZPk1d0",
        "outputId": "29131a0b-5ada-457a-d767-a2cc065fa0a0"
      },
      "outputs": [
        {
          "name": "stdout",
          "output_type": "stream",
          "text": [
            "Digite o valor do custo de fábrica do automóvel :100000\n",
            "O valor final do automóvel corresponde a : R$ 173000.0\n"
          ]
        }
      ],
      "source": [
        "custoFabrica = float(input(\"Digite o valor do custo de fábrica do automóvel :\"))\n",
        "valorDistribuidor = custoFabrica*28/100\n",
        "valorImposto = custoFabrica*45/100\n",
        "valorFinal = valorDistribuidor+ valorImposto+ custoFabrica\n",
        "print(\"O valor final do automóvel corresponde a : R$\", valorFinal)"
      ]
    },
    {
      "cell_type": "markdown",
      "metadata": {
        "id": "rVEUZ7QCIUMF"
      },
      "source": [
        "13)Ler uma temperatura em graus Celsius e apresentá-la convertida em graus Fahrenheit. A fórmula de conversão é F = (9 * C + 160) / 5, sendo F a temperatura em Fahrenheit e C a temperatura em Celsius."
      ]
    },
    {
      "cell_type": "code",
      "execution_count": null,
      "metadata": {
        "id": "FAg4B8USIZEJ"
      },
      "outputs": [],
      "source": []
    },
    {
      "cell_type": "markdown",
      "metadata": {
        "id": "NZv2GMLuIZ8X"
      },
      "source": [
        "14) Ler uma temperatura em graus Fahrenheit e apresentá-la convertida em graus Celsius. A fórmula de\n",
        "conversão é C = (F - 32) * (5/9) , sendo F a temperatura em Fahrenheit e C a temperatura em Celsius."
      ]
    },
    {
      "cell_type": "code",
      "execution_count": null,
      "metadata": {
        "id": "_IOs487uIftC"
      },
      "outputs": [],
      "source": []
    },
    {
      "cell_type": "markdown",
      "metadata": {
        "id": "veMPQYR6Is1u"
      },
      "source": [
        "15) Efetuar o cálculo e a apresentação do valor de uma prestação em atraso, utilizando a fórmula  PRESTACAO = VALOR + (VALOR * TAXA/100) * TEMPO)."
      ]
    },
    {
      "cell_type": "code",
      "execution_count": null,
      "metadata": {
        "id": "dmtcH_rHIwUk"
      },
      "outputs": [],
      "source": []
    },
    {
      "cell_type": "markdown",
      "metadata": {
        "id": "FWjoT_18IxXI"
      },
      "source": [
        "16) Elaborar um programa que calcule e apresente o volume de uma caixa retangular, por meio da fórmula\n",
        "VOLUME = COMPRIMENTO * LARGURA * ALTURA."
      ]
    },
    {
      "cell_type": "code",
      "execution_count": null,
      "metadata": {
        "id": "4RS1a9KnI79B"
      },
      "outputs": [],
      "source": []
    },
    {
      "cell_type": "markdown",
      "metadata": {
        "id": "r0TZGkUfI8kp"
      },
      "source": [
        "17) Elaborar um programa que efetue a apresentação do valor da conversão em real de um valor lido em\n",
        "dólar. O programa deve solicitar o valor da cotação do dólar e também a quantidade de dólares disponível com o usuário, para que seja apresentado o valor em moeda brasileira."
      ]
    },
    {
      "cell_type": "code",
      "execution_count": null,
      "metadata": {
        "id": "KIkalXjFJCUu"
      },
      "outputs": [],
      "source": []
    },
    {
      "cell_type": "markdown",
      "metadata": {
        "id": "uyVSSE40JDJz"
      },
      "source": [
        "18) Elaborar um programa que efetue a apresentação do valor da conversão em dólar de um valor lido em\n",
        "real. O programa deve solicitar o valor da cotação do dólar e também a quantidade de reais disponível com o usuário, para que seja apresentado o valor em moeda americana."
      ]
    },
    {
      "cell_type": "code",
      "execution_count": null,
      "metadata": {
        "id": "38gE4oOWJI2b"
      },
      "outputs": [],
      "source": []
    },
    {
      "cell_type": "markdown",
      "metadata": {
        "id": "6mf7j-ZONHk4"
      },
      "source": [
        "**Exemplo If** Solicitar a idade de uma pessoa e caso ela for maior de 18, exibir um a mensagem \"Pode entrar na balada\"."
      ]
    },
    {
      "cell_type": "code",
      "execution_count": null,
      "metadata": {
        "colab": {
          "base_uri": "https://localhost:8080/"
        },
        "id": "Fea5hzJgNaMI",
        "outputId": "21b458f8-eee4-4c78-a9cd-30ad9e8e6953"
      },
      "outputs": [
        {
          "name": "stdout",
          "output_type": "stream",
          "text": [
            "Digite a sua idade :19\n",
            "Você pode entar na balada\n"
          ]
        }
      ],
      "source": [
        "idade = int(input(\"Digite a sua idade :\"))\n",
        "if(idade>=18):\n",
        "    print(\"Você pode entar na balada\")\n"
      ]
    },
    {
      "cell_type": "markdown",
      "metadata": {
        "id": "QmKXI9XeO9Yl"
      },
      "source": [
        "**Exemplo If-Else** Solicitar a idade de uma pessoa e caso ela for menor que 18, exibir uma mensagem \"Não pode entrar na balada\". Senão exibir uma mensagem \"Pode entrar na balada\"."
      ]
    },
    {
      "cell_type": "code",
      "execution_count": null,
      "metadata": {
        "colab": {
          "base_uri": "https://localhost:8080/"
        },
        "id": "iQfWOmhvPUl8",
        "outputId": "2bf4dd15-6049-4c7f-a29c-12f29c180b0e"
      },
      "outputs": [
        {
          "name": "stdout",
          "output_type": "stream",
          "text": [
            "Digite a sua idade :18\n",
            "Pode entrar na balada!!!\n"
          ]
        }
      ],
      "source": [
        "idade = int(input(\"Digite a sua idade :\"))\n",
        "if(idade<18):\n",
        "  print(\"Não pode entrar na balada!!!\")\n",
        "else:\n",
        "  print(\"Pode entrar na balada!!!\")\n"
      ]
    },
    {
      "cell_type": "markdown",
      "metadata": {
        "id": "zmrPjAuuQsAW"
      },
      "source": [
        "**Exemplo If-Elif - Else** Solicitar a idade de uma pessoa e caso ela for menor que 16, exibir uma mensagem \"Não pode votar\". Senão se idade menor que 18, exibir uma mensagem \"Voto opcional\". Senão exibir uma mensagem de voto \"Voto Obrigatório\"."
      ]
    },
    {
      "cell_type": "code",
      "execution_count": null,
      "metadata": {
        "colab": {
          "base_uri": "https://localhost:8080/"
        },
        "id": "hCi9bcXsRM-6",
        "outputId": "d4b66b05-ab56-496d-ec6b-0f27ee57d9b5"
      },
      "outputs": [
        {
          "name": "stdout",
          "output_type": "stream",
          "text": [
            "Digite a sua idade :18\n",
            "Pode votar, voto obrigatório!\n"
          ]
        }
      ],
      "source": [
        "idade = int(input(\"Digite a sua idade :\"))\n",
        "if(idade<16):\n",
        "  print(\"Não pode votar, seu bebê!\")\n",
        "elif (idade<18):\n",
        "  print(\"Pode votar, voto opcional!\")\n",
        "else:\n",
        "  print(\"Pode votar, voto obrigatório!\")"
      ]
    },
    {
      "cell_type": "markdown",
      "metadata": {
        "id": "ICbOn26kNA2s"
      },
      "source": [
        "19) Ler um valor e escrever a mensagem É MAIOR QUE 10! se o valor lido for maior que 10, caso contrário escrever NÃO É MAIOR QUE 10!"
      ]
    },
    {
      "cell_type": "code",
      "execution_count": null,
      "metadata": {
        "colab": {
          "base_uri": "https://localhost:8080/"
        },
        "id": "KF6-wOTRNFOu",
        "outputId": "ca8b5f84-37f9-4988-d674-a21ce9e52d21"
      },
      "outputs": [
        {
          "name": "stdout",
          "output_type": "stream",
          "text": [
            "Digite um número :17\n",
            "O número digitado é Maior que 10\n"
          ]
        }
      ],
      "source": [
        "numero =int(input(\"Digite um número :\"))\n",
        "if(numero>10):\n",
        "  print(\"O número digitado é Maior que 10\")\n",
        "else:\n",
        "    print(\"O número digitado é Menor que 10\")"
      ]
    },
    {
      "cell_type": "markdown",
      "metadata": {
        "id": "wrY4s8D84krZ"
      },
      "source": [
        "20) Ler a idade de uma pessoa e se for menor de 16, exibir uma mensagem que ela \"Não pode votar\", caso contrário exiba uma mensagem que a 'Pessoa pode votar\"."
      ]
    },
    {
      "cell_type": "code",
      "execution_count": null,
      "metadata": {
        "colab": {
          "base_uri": "https://localhost:8080/"
        },
        "id": "tZlinkTL5Xx2",
        "outputId": "26a0d9fb-930c-4fe6-e352-e8998d41c8c7"
      },
      "outputs": [
        {
          "output_type": "stream",
          "name": "stdout",
          "text": [
            "Informe a sua idade: 14\n",
            "Infelizmente não foi dessa vez, você ainda não pode votar. :(\n"
          ]
        }
      ],
      "source": [
        "numero ="
      ]
    },
    {
      "cell_type": "markdown",
      "metadata": {
        "id": "TEbcvj1dTMNI"
      },
      "source": [
        "21) Ler um valor e escrever se é positivo ou negativo (considere o valor zero como positivo)."
      ]
    },
    {
      "cell_type": "code",
      "execution_count": null,
      "metadata": {
        "id": "eEiarLT2TPnn",
        "colab": {
          "base_uri": "https://localhost:8080/"
        },
        "outputId": "feda19fc-330b-49f5-fb22-edcdfa03bb4d"
      },
      "outputs": [
        {
          "output_type": "stream",
          "name": "stdout",
          "text": [
            "Digite um valor :-20\n",
            "O número digitado é negativo.\n"
          ]
        }
      ],
      "source": [
        "numero = int(input(\"Digite um valor :\"))\n",
        "if(numero<0):\n",
        "  print(\"O número digitado é negativo.\")\n",
        "else:\n",
        "  print(\"O número digitado é positivo.\")"
      ]
    },
    {
      "cell_type": "markdown",
      "source": [
        "22) As maçãs custam R 1,30 cada se forem compradas menos de uma dúzia, e R 1,00 se forem compradas pelo menos 12. Escreva um programa que leia o número de maçãs compradas, calcule e escreva o custo total da compra."
      ],
      "metadata": {
        "id": "k6v1OzBYD5RO"
      }
    },
    {
      "cell_type": "code",
      "source": [
        "numero_de_macas = int(input(\"Digite o número de maçãs que você vai comprar : \"))\n",
        "preco_por_maca = 1.30 if numero_de_macas < 12 else 1.00\n",
        "custo_total = numero_de_macas * preco_por_maca\n",
        "print(f\"O custo total da compra é: R$ {custo_total:.2f}\")"
      ],
      "metadata": {
        "id": "DAdhQKQ_EANx",
        "colab": {
          "base_uri": "https://localhost:8080/"
        },
        "outputId": "07749f55-ecb3-44ee-ff03-165d656b9408"
      },
      "execution_count": null,
      "outputs": [
        {
          "output_type": "stream",
          "name": "stdout",
          "text": [
            "Digite o número de maçãs que você vai: 2\n",
            "O custo total da compra é: R$ 2.60\n"
          ]
        }
      ]
    },
    {
      "cell_type": "markdown",
      "source": [
        "23) Ler as notas da 1a. e 2a. avaliações de um aluno. Calcular a média aritmética simples e escrever uma mensagem que diga se o aluno foi ou não aprovado (considerar que nota igual ou maior que 6 o aluno é aprovado). Escrever também a média calculada."
      ],
      "metadata": {
        "id": "-PQu5XoLEAsx"
      }
    },
    {
      "cell_type": "code",
      "source": [
        "nota1 = float(input(\"Digite a 1º nota : \"))\n",
        "nota2 = float(input(\"Digite a 2º nota : \"))\n",
        "media = (nota1+nota2)/2\n",
        "if(media>=6):\n",
        "  print(\"Aluno foi Aprovado com média igual a :\", round(media,2))\n",
        "else:\n",
        "  print(f\"Aluno foi Reprovado com média igual a : {media :.2f}\")"
      ],
      "metadata": {
        "id": "O8OfkKaBEFIH"
      },
      "execution_count": null,
      "outputs": []
    },
    {
      "cell_type": "markdown",
      "source": [
        "24) Ler o ano atual e o ano de nascimento de uma pessoa. Escrever uma mensagem que diga se ela poderá ou não votar este ano (não é necessário considerar o mês em que a pessoa nasceu)."
      ],
      "metadata": {
        "id": "Y4Ur7FwgEIX1"
      }
    },
    {
      "cell_type": "code",
      "source": [
        "anoAtual = int(input(\"Digite o ano atual :\"))\n",
        "anoNascimento = int(input(\"Digite o ano de seu nascimento :\"))\n",
        "idade = anoAtual- anoNascimento\n",
        "if(idade<16):\n",
        "  print(\"A pessoa não pode votar.\")\n",
        "else:\n",
        "  print(\"A pessoa pode votar.\")"
      ],
      "metadata": {
        "id": "ApBp4_SFEMAK",
        "colab": {
          "base_uri": "https://localhost:8080/"
        },
        "outputId": "c3dc17fc-eeb4-4d14-fed1-2c86467e5145"
      },
      "execution_count": null,
      "outputs": [
        {
          "output_type": "stream",
          "name": "stdout",
          "text": [
            "Digite o ano atual :2024\n",
            "Digite o ano de seu nascimento :1994\n",
            "A pessoa pode votar.\n"
          ]
        }
      ]
    },
    {
      "cell_type": "markdown",
      "source": [
        "25) Ler dois valores (considere que não serão lidos valores iguais) e escrever o maior deles."
      ],
      "metadata": {
        "id": "MKavbpfvEPfL"
      }
    },
    {
      "cell_type": "code",
      "source": [
        "numero01 = int(input(\"Digite um número :\"))\n",
        "numero02 = int(input(\"Digite um número :\"))\n",
        "if(numero01>numero02):\n",
        "  print(\"O número maior é :\", numero01)\n",
        "else:\n",
        "  print(\"O número maior é :\", numero02)"
      ],
      "metadata": {
        "id": "9Gqodb-KEO2A"
      },
      "execution_count": null,
      "outputs": []
    },
    {
      "cell_type": "markdown",
      "source": [
        "26)Ler dois valores (considere que não serão lidos valores iguais) e escrevê-los em ordem crescente."
      ],
      "metadata": {
        "id": "lxrHg_mOEVbU"
      }
    },
    {
      "cell_type": "code",
      "source": [
        "\n",
        "#Andy\n",
        "valor01 = float(input(\"VALOR 01: \"))\n",
        "valor02 = float(input(\"VALOR 02: \"))\n",
        "\n",
        "if valor01 < valor02:\n",
        "    print(\"Ordem crescente:\", valor01, valor02)\n",
        "else:\n",
        "    print(\"Ordem crescente:\", valor02, valor01)"
      ],
      "metadata": {
        "id": "cIZAyJzzEX2I"
      },
      "execution_count": null,
      "outputs": []
    },
    {
      "cell_type": "markdown",
      "source": [
        "27) Ler a hora de início e a hora de fim de um jogo de Xadrez (considere apenas horas inteiras, sem os minutos) e calcule a duração do jogo em horas, sabendo-se que o tempo máximo de duração do jogo é de 24 horas e que o jogo pode iniciar em um dia e terminar no dia seguinte."
      ],
      "metadata": {
        "id": "rskaRNppEduM"
      }
    },
    {
      "cell_type": "code",
      "source": [
        "horaInicio= int(input(\"Digite o horário inicial :\"))\n",
        "horaFinal= int(input(\"Digite o horário final :\"))\n",
        "duracao = horaFinal - horaInicio\n",
        "if(duracao>0):\n",
        "  print(\"A duração é :\", duracao)\n",
        "else:\n",
        "  duracao=duracao+24\n",
        "  print(\"A duração é :\", duracao)\n",
        "\n"
      ],
      "metadata": {
        "id": "UnYaQ36ZEipj",
        "colab": {
          "base_uri": "https://localhost:8080/"
        },
        "outputId": "1c345b84-a2b9-4ea1-8f68-16c6592d1121"
      },
      "execution_count": null,
      "outputs": [
        {
          "output_type": "stream",
          "name": "stdout",
          "text": [
            "Digite o horário inicial :22\n",
            "Digite o horário final :03\n",
            "A duração é : 5\n"
          ]
        }
      ]
    },
    {
      "cell_type": "markdown",
      "source": [
        "Exemplo de laço de repetição. Quando desejo exibir uma quantidade de vezes, um determinado tipo de código."
      ],
      "metadata": {
        "id": "Qz_-74lMvV1A"
      }
    },
    {
      "cell_type": "code",
      "source": [
        "contadora = 0\n",
        "\n",
        "while(contadora<8):\n",
        "  print(\"Anna Paula\")\n",
        "  contadora= contadora+1\n"
      ],
      "metadata": {
        "colab": {
          "base_uri": "https://localhost:8080/"
        },
        "id": "IpDX_-MqvkpD",
        "outputId": "49366e74-43f1-4b25-f4a0-350cd9e6e7a2"
      },
      "execution_count": null,
      "outputs": [
        {
          "output_type": "stream",
          "name": "stdout",
          "text": [
            "Anna Paula\n",
            "Anna Paula\n",
            "Anna Paula\n",
            "Anna Paula\n",
            "Anna Paula\n",
            "Anna Paula\n",
            "Anna Paula\n",
            "Anna Paula\n"
          ]
        }
      ]
    },
    {
      "cell_type": "markdown",
      "source": [
        "2º Exemplo While"
      ],
      "metadata": {
        "id": "JB1AI4aiy5a2"
      }
    },
    {
      "cell_type": "code",
      "source": [
        "contadora = 0\n",
        "\n",
        "while contadora < 10:\n",
        "  print(contadora)\n",
        "  contadora =contadora+1\n"
      ],
      "metadata": {
        "colab": {
          "base_uri": "https://localhost:8080/"
        },
        "id": "YWtPbXF8zKq3",
        "outputId": "46c2284a-ca91-4041-f57e-284c1912da75"
      },
      "execution_count": null,
      "outputs": [
        {
          "output_type": "stream",
          "name": "stdout",
          "text": [
            "0\n",
            "1\n",
            "2\n",
            "3\n",
            "4\n",
            "5\n",
            "6\n",
            "7\n",
            "8\n",
            "9\n"
          ]
        }
      ]
    },
    {
      "cell_type": "markdown",
      "source": [
        "28) Apresentar os resultados de uma tabuada de multiplicar (de 1 até 10) de um número qualquer.\n",
        "\n",
        "\n",
        "\n",
        "*   5 x 1 = 5\n",
        "*   5 x 2 = 10"
      ],
      "metadata": {
        "id": "WAgogbIyzHB3"
      }
    },
    {
      "cell_type": "code",
      "source": [
        "numero = int(input(\"Digite um número :\"))\n",
        "contadora = 1\n",
        "\n",
        "while contadora < 11:\n",
        "  print(numero, \" X \",contadora, \" = \", numero*contadora)\n",
        "  contadora =contadora+1"
      ],
      "metadata": {
        "id": "vo21XqTJ1qXB",
        "colab": {
          "base_uri": "https://localhost:8080/"
        },
        "outputId": "e579c539-37fd-4e33-e430-b80ac6d2c4ea"
      },
      "execution_count": null,
      "outputs": [
        {
          "output_type": "stream",
          "name": "stdout",
          "text": [
            "Digite um número :3\n",
            "3  X  1  =  3\n",
            "3  X  2  =  6\n",
            "3  X  3  =  9\n",
            "3  X  4  =  12\n",
            "3  X  5  =  15\n",
            "3  X  6  =  18\n",
            "3  X  7  =  21\n",
            "3  X  8  =  24\n",
            "3  X  9  =  27\n",
            "3  X  10  =  30\n"
          ]
        }
      ]
    },
    {
      "cell_type": "markdown",
      "source": [
        "29) Apresentar o total da soma obtida dos cem primeiros números inteiros (1+2+3+4+...+98+99+100)."
      ],
      "metadata": {
        "id": "Tjn4dovWy8j2"
      }
    },
    {
      "cell_type": "code",
      "source": [
        "cont"
      ],
      "metadata": {
        "id": "B3-XSADa134O"
      },
      "execution_count": null,
      "outputs": []
    },
    {
      "cell_type": "markdown",
      "source": [
        "30) Elaborar um programa que apresente no final o somatório dos valores pares existentes na faixa de\n",
        "1 até 500."
      ],
      "metadata": {
        "id": "0Rz46cpw14VG"
      }
    },
    {
      "cell_type": "code",
      "source": [
        "numero = 1\n",
        "somadora = 0\n",
        "\n",
        "while numero<501:\n",
        "  if numero%2==0:\n",
        "    somadora += numero\n",
        "  numero +=1\n",
        "print(\"A somatoria dos números pares de 1 até 500\" , somadora)"
      ],
      "metadata": {
        "id": "-QdopgXc1-QA"
      },
      "execution_count": null,
      "outputs": []
    },
    {
      "cell_type": "markdown",
      "source": [
        "31) Apresentar todos os valores numéricos inteiros ímpares situados na faixa de 0 a 20. Para verificar\n",
        "se o número é ímpar, efetuar dentro da malha a verificação lógica desta condição com a instrução se\n",
        ", perguntando se o número é ímpar; sendo, mostre-o; não sendo, passe para o próximo passo."
      ],
      "metadata": {
        "id": "KZMMh1EW3x3M"
      }
    },
    {
      "cell_type": "code",
      "source": [
        "numero = 0\n",
        "\n",
        "while numero<21:\n",
        "  if numero%2==1:\n",
        "    print(numero)\n",
        "  numero +=1"
      ],
      "metadata": {
        "id": "EvHPODEZ305n",
        "colab": {
          "base_uri": "https://localhost:8080/"
        },
        "outputId": "ec24ceb5-1632-422e-d5a0-be7e3698c0f1"
      },
      "execution_count": 3,
      "outputs": [
        {
          "output_type": "stream",
          "name": "stdout",
          "text": [
            "1\n",
            "3\n",
            "5\n",
            "7\n",
            "9\n",
            "11\n",
            "13\n",
            "15\n",
            "17\n",
            "19\n"
          ]
        }
      ]
    },
    {
      "cell_type": "markdown",
      "source": [
        "Laço de repetição For: È uma estrutura de repetição, onde podemos controlar a quantidade de vezes que um trecho de cógido é repetido."
      ],
      "metadata": {
        "id": "pRjoZ_IS6xAI"
      }
    },
    {
      "cell_type": "code",
      "source": [
        "fruta =[\"jabuticaba\",\"jambro\",\"siriguela\",\"mexirica\"]\n",
        "#for alimento in fruta:\n",
        "print(fruta)"
      ],
      "metadata": {
        "colab": {
          "base_uri": "https://localhost:8080/"
        },
        "id": "ONW5vBxZ8L2R",
        "outputId": "ddcd8b0e-52a2-4295-9b3c-ebff729506e8"
      },
      "execution_count": 5,
      "outputs": [
        {
          "output_type": "stream",
          "name": "stdout",
          "text": [
            "['jabuticaba', 'jambro', 'siriguela', 'mexirica']\n"
          ]
        }
      ]
    }
  ],
  "metadata": {
    "colab": {
      "provenance": [],
      "include_colab_link": true
    },
    "kernelspec": {
      "display_name": "Python 3",
      "name": "python3"
    },
    "language_info": {
      "name": "python"
    }
  },
  "nbformat": 4,
  "nbformat_minor": 0
}