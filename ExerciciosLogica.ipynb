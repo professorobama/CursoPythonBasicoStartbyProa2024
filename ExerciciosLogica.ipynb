{
  "nbformat": 4,
  "nbformat_minor": 0,
  "metadata": {
    "colab": {
      "provenance": [],
      "include_colab_link": true
    },
    "kernelspec": {
      "name": "python3",
      "display_name": "Python 3"
    },
    "language_info": {
      "name": "python"
    }
  },
  "cells": [
    {
      "cell_type": "markdown",
      "metadata": {
        "id": "view-in-github",
        "colab_type": "text"
      },
      "source": [
        "<a href=\"https://colab.research.google.com/github/professorobama/CursoPythonBasicoStartbyProa2024/blob/main/ExerciciosLogica.ipynb\" target=\"_parent\"><img src=\"https://colab.research.google.com/assets/colab-badge.svg\" alt=\"Open In Colab\"/></a>"
      ]
    },
    {
      "cell_type": "markdown",
      "source": [
        "1) Solicitar dois valores, efetuar a soma e exibir o resultado."
      ],
      "metadata": {
        "id": "dANeC2UB91Aa"
      }
    },
    {
      "cell_type": "code",
      "execution_count": null,
      "metadata": {
        "colab": {
          "base_uri": "https://localhost:8080/"
        },
        "id": "45lDl4DM9yhS",
        "outputId": "715af032-b5e6-4365-a5c9-a9310d21ef5c"
      },
      "outputs": [
        {
          "output_type": "stream",
          "name": "stdout",
          "text": [
            "Digite um número :9\n",
            "Digite outro número :23\n",
            "A soma dos valores é  : 32\n"
          ]
        }
      ],
      "source": [
        "numero01=int(input(\"Digite um número :\"))\n",
        "numero02=int(input(\"Digite outro número :\"))\n",
        "soma=numero01+numero02\n",
        "print(\"A soma dos valores é  :\",soma)"
      ]
    },
    {
      "cell_type": "code",
      "source": [],
      "metadata": {
        "id": "ZnFzhpZp9-b0"
      },
      "execution_count": null,
      "outputs": []
    },
    {
      "cell_type": "markdown",
      "source": [
        "2) Solicitar dois valores, efetuar a subtração e depois exibir o resultado."
      ],
      "metadata": {
        "id": "BF0LdRHuEylQ"
      }
    },
    {
      "cell_type": "code",
      "source": [
        "numero01=int(input(\"Digite um número :\"))\n",
        "numero02=int(input(\"Digite outro número :\"))\n",
        "subtracao=numero01-numero02\n",
        "print(\"A subtracao dos numeros é : \", subtracao)"
      ],
      "metadata": {
        "colab": {
          "base_uri": "https://localhost:8080/"
        },
        "id": "nYnLo4bmFCLq",
        "outputId": "4d71cbc7-19b7-46ea-9b52-9ebc4caa4d8b"
      },
      "execution_count": null,
      "outputs": [
        {
          "output_type": "stream",
          "name": "stdout",
          "text": [
            "Digite um número :30\n",
            "Digite outro número :4\n",
            "A subtracao dos numeros é :  26\n"
          ]
        }
      ]
    },
    {
      "cell_type": "markdown",
      "source": [
        "3) Solicitar dois valores, efetuar a multiplicação e depois exibir o resultado."
      ],
      "metadata": {
        "id": "0QcJMDHrjVYw"
      }
    },
    {
      "cell_type": "code",
      "source": [
        "numero01 = int(input(\"Digite um número\"))\n",
        "numero02 = int(input(\"Digite um número\"))\n",
        "multiplicacao=numero01*numero02\n",
        "print(\"A multiplicação dos números digitados é :\",multiplicacao)"
      ],
      "metadata": {
        "colab": {
          "base_uri": "https://localhost:8080/"
        },
        "id": "ta7zJYu1j4db",
        "outputId": "643a0d0a-3283-47f5-f915-435e9c21cf3a"
      },
      "execution_count": 1,
      "outputs": [
        {
          "output_type": "stream",
          "name": "stdout",
          "text": [
            "Digite um número2\n",
            "Digite um número3\n",
            "A multiplicação dos números digitados é : 6\n"
          ]
        }
      ]
    },
    {
      "cell_type": "markdown",
      "source": [
        "4) Solicitar dois valores, efetuar a divisão e depois exibir o resultado."
      ],
      "metadata": {
        "id": "JIKkso4_j1T4"
      }
    },
    {
      "cell_type": "code",
      "source": [
        "numero01 = int(input(\"Digite um número\"))\n",
        "numero02 = int(input(\"Digite um número\"))\n",
        "divisao =numero01/numero02\n",
        "print(\"O valor da divisão é : \", divisao)"
      ],
      "metadata": {
        "id": "Rv1-E9gxjh5d",
        "colab": {
          "base_uri": "https://localhost:8080/"
        },
        "outputId": "7cd64d99-b124-47db-e373-20123d706fed"
      },
      "execution_count": 2,
      "outputs": [
        {
          "output_type": "stream",
          "name": "stdout",
          "text": [
            "Digite um número10\n",
            "Digite um número2\n",
            "O valor da divisão é :  5.0\n"
          ]
        }
      ]
    },
    {
      "cell_type": "markdown",
      "source": [
        "5) Escreva um algoritmo para ler um valor (do teclado) e escrever (na tela) o seu antecessor."
      ],
      "metadata": {
        "id": "5PdRYcxoTRKr"
      }
    },
    {
      "cell_type": "code",
      "source": [
        "numero01=int(input(\"Digite um numero :\"))\n",
        "antecessor=numero01-1\n",
        "print(\"O antecessor do número digitado é : \",antecessor)"
      ],
      "metadata": {
        "colab": {
          "base_uri": "https://localhost:8080/"
        },
        "id": "VYtlxWuxTVMz",
        "outputId": "37a4acc3-3a1a-479d-c17e-86c64c7c1e27"
      },
      "execution_count": null,
      "outputs": [
        {
          "output_type": "stream",
          "name": "stdout",
          "text": [
            "Digite um numero :9\n",
            "O antecessor do número digitado é :  8\n"
          ]
        }
      ]
    },
    {
      "cell_type": "markdown",
      "source": [
        "6) Escreva um algoritmo para ler um valor (do teclado) e escrever (na tela) o seu sucessor."
      ],
      "metadata": {
        "id": "K17uMv-LTVzs"
      }
    },
    {
      "cell_type": "code",
      "source": [
        "numero=int(input(\"Digite um valor :\"))\n",
        "sucessor=numero+1\n",
        "print(\"O sucessor do número digitado é : \", sucessor)\n"
      ],
      "metadata": {
        "colab": {
          "base_uri": "https://localhost:8080/"
        },
        "id": "ukM4i1OkThyc",
        "outputId": "dc74838b-e408-4ee6-ba29-2a16b6b2ee1b"
      },
      "execution_count": null,
      "outputs": [
        {
          "output_type": "stream",
          "name": "stdout",
          "text": [
            "Digite um valor :15\n",
            "O sucessor do número digitado é :  16\n"
          ]
        }
      ]
    },
    {
      "cell_type": "markdown",
      "source": [
        "7) Escreva um algoritmo para ler as dimensões de um retângulo (base e altura), calcular e escrever a área do retângulo."
      ],
      "metadata": {
        "id": "pIkK7d0YVu8j"
      }
    },
    {
      "cell_type": "code",
      "source": [
        "base = float(input(\"Digite o valor da base : \"))\n",
        "altura = float(input(\"Digite o valor da altura : \"))\n",
        "area = base* altura\n",
        "print(\"O resultado da multiplicação é : \",area)"
      ],
      "metadata": {
        "id": "DxGW9XMZV394",
        "colab": {
          "base_uri": "https://localhost:8080/"
        },
        "outputId": "fc54bc18-20ae-4c87-bc78-b3ded74be4fa"
      },
      "execution_count": 4,
      "outputs": [
        {
          "output_type": "stream",
          "name": "stdout",
          "text": [
            "Digite o valor da base : 1.14\n",
            "Digite o valor da altura : 3.14\n",
            "O resultado da multiplicação é :  3.5795999999999997\n"
          ]
        }
      ]
    },
    {
      "cell_type": "markdown",
      "source": [
        "8) Escreva um algoritmo para ler as dimensões de um triângulo (base e altura), calcular e escrever a área do triângulo."
      ],
      "metadata": {
        "id": "Xpl-BB4kWfJ7"
      }
    },
    {
      "cell_type": "code",
      "source": [
        "base=float(input(\"Digite a base do triângulo : \"))\n",
        "altura=float(input(\"Digite o valor da altura :\"))\n",
        "area=base*altura/2\n",
        "print(\"O valor da area é : \",area)"
      ],
      "metadata": {
        "colab": {
          "base_uri": "https://localhost:8080/"
        },
        "id": "hO86NDAZWlRq",
        "outputId": "68ca1ec5-0d92-43c0-ff93-a795ba0cb60e"
      },
      "execution_count": null,
      "outputs": [
        {
          "output_type": "stream",
          "name": "stdout",
          "text": [
            "Digite a base do triângulo : 10\n",
            "Digite o valor da altura :5\n",
            "O valor da area é :  25.0\n"
          ]
        }
      ]
    },
    {
      "cell_type": "markdown",
      "source": [
        "9) Faça um algoritmo que leia a idade de uma pessoa expressa em anos, meses e dias e escreva a idade dessa pessoa expressa apenas em dias. Considerar ano com 365 dias e mês com 30 dias."
      ],
      "metadata": {
        "id": "BuR6XjJ_cD_h"
      }
    },
    {
      "cell_type": "code",
      "source": [
        "ano =int(input(\"Digite a sua idade expressa em anos :\"))\n",
        "meses = int(input(\"Digite a quantidade de meses passados do seu último aniversário :\"))\n",
        "dias =int(input(\"Digite a quantidade de dias passados do seu último mesversário :\"))\n",
        "diasvividos = ano*365 + meses*30 + dias\n",
        "print(\"A quantidade de dias vividos corresponde a : \", diasvividos)"
      ],
      "metadata": {
        "id": "yLweSeVbcFE0",
        "colab": {
          "base_uri": "https://localhost:8080/"
        },
        "outputId": "67584491-f4e7-4c6e-f1bd-bec4b31c9828"
      },
      "execution_count": 13,
      "outputs": [
        {
          "output_type": "stream",
          "name": "stdout",
          "text": [
            "Digite a sua idade expressa em anos :18\n",
            "Digite a quantidade de meses passados do seu último aniversário :4\n",
            "Digite a quantidade de dias passados do seu último mesversário :0\n",
            "A quantidade de dias vividos corresponde a :  6690\n"
          ]
        }
      ]
    },
    {
      "cell_type": "markdown",
      "source": [
        "10) Escreva um algoritmo para ler o número total de eleitores de um município, o número de votos brancos, nulos e válidos. Calcular e escrever o percentual que cada um representa em relação ao total de eleitores."
      ],
      "metadata": {
        "id": "M8oCyj0BkYrs"
      }
    },
    {
      "cell_type": "code",
      "source": [
        "numeroTotalEleitores = int(input(\"Digite o número total de eleitores :\"))\n",
        "numeroTotalVotosBrancos = int(input(\"Digite o número total de votos brancos :\"))\n",
        "numeroTotalVotosNulos = int(input(\"Digite o número total de votos nulos :\"))\n",
        "numeroTotalVotosValidos = int(input(\"Digite o número total de votos válidos :\"))\n",
        "porcentagemVotosBrancos = (numeroTotalVotosBrancos/numeroTotalEleitores)*100\n",
        "porcentagemVotosNulos = (numeroTotalVotosNulos/numeroTotalEleitores)*100\n",
        "porcentagemVotosValidos = (numeroTotalVotosValidos/numeroTotalEleitores)*100\n",
        "print(\" O número em porcentagem de votos brancos é : \", porcentagemVotosBrancos,\"%\")\n",
        "print(\" O número em porcentagem de votos nulos é : \", porcentagemVotosNulos,\"%\")\n",
        "print(\" O número em porcentagem de votos válidos é : \", porcentagemVotosValidos,\"%\")"
      ],
      "metadata": {
        "colab": {
          "base_uri": "https://localhost:8080/"
        },
        "id": "83nsJURDkjkO",
        "outputId": "fd32382f-2028-419d-a9a9-e5be82591d26"
      },
      "execution_count": 14,
      "outputs": [
        {
          "output_type": "stream",
          "name": "stdout",
          "text": [
            "Digite o número total de eleitores :1000\n",
            "Digite o número total de votos brancos :100\n",
            "Digite o número total de votos nulos :100\n",
            "Digite o número total de votos válidos :800\n",
            " O número em porcentagem de votos brancos é :  10.0 %\n",
            " O número em porcentagem de votos nulos é :  10.0 %\n",
            " O número em porcentagem de votos válidos é :  80.0 %\n"
          ]
        }
      ]
    },
    {
      "cell_type": "markdown",
      "source": [
        "11) Escreva um algoritmo para ler o salário mensal atual de um funcionário e o percentual de reajuste. Calcular e escrever o valor do novo salário.\n"
      ],
      "metadata": {
        "id": "s9Ng5GDRi0tC"
      }
    },
    {
      "cell_type": "code",
      "source": [
        "salarioMensal = float(input(\"Digite o seu salário mensal :\"))\n",
        "percentualReajuste = float(input(\"Digite o seu percentual de reajuste :\"))\n",
        "reajusteReal = (salarioMensal*percentualReajuste)/100\n",
        "novoSalario = salarioMensal+ reajusteReal\n",
        "print(\"o novo salário do funcionário é :  R$\", novoSalario)"
      ],
      "metadata": {
        "id": "Mc8zdOFyh7hX",
        "colab": {
          "base_uri": "https://localhost:8080/"
        },
        "outputId": "5593a792-421d-457b-bd09-7dac15b6b992"
      },
      "execution_count": 15,
      "outputs": [
        {
          "output_type": "stream",
          "name": "stdout",
          "text": [
            "Digite o seu salário mensal :1000\n",
            "Digite o seu percentual de reajuste :10\n",
            "o novo salário do funcionário é :  R$ 1100.0\n"
          ]
        }
      ]
    },
    {
      "cell_type": "markdown",
      "source": [
        "12) O custo de um carro novo ao consumidor é a soma do custo de fábrica com a porcentagem do distribuidor e dos impostos (aplicados ao custo de fábrica). Supondo que o percentual do distribuidor seja de 28% e os impostos de 45%, escrever um algoritmo para ler o custo de fábrica de um carro, calcular e escrever o custo final ao consumidor."
      ],
      "metadata": {
        "id": "Zel1_mXHkyoW"
      }
    },
    {
      "cell_type": "code",
      "source": [],
      "metadata": {
        "id": "DDukI4ZPk1d0"
      },
      "execution_count": null,
      "outputs": []
    },
    {
      "cell_type": "markdown",
      "source": [
        "13)Ler uma temperatura em graus Celsius e apresentá-la convertida em graus Fahrenheit. A fórmula de conversão é F = (9 * C + 160) / 5, sendo F a temperatura em Fahrenheit e C a temperatura em Celsius."
      ],
      "metadata": {
        "id": "rVEUZ7QCIUMF"
      }
    },
    {
      "cell_type": "code",
      "source": [],
      "metadata": {
        "id": "FAg4B8USIZEJ"
      },
      "execution_count": null,
      "outputs": []
    },
    {
      "cell_type": "markdown",
      "source": [
        "14) Ler uma temperatura em graus Fahrenheit e apresentá-la convertida em graus Celsius. A fórmula de\n",
        "conversão é C = (F - 32) * (5/9) , sendo F a temperatura em Fahrenheit e C a temperatura em Celsius."
      ],
      "metadata": {
        "id": "NZv2GMLuIZ8X"
      }
    },
    {
      "cell_type": "code",
      "source": [],
      "metadata": {
        "id": "_IOs487uIftC"
      },
      "execution_count": null,
      "outputs": []
    },
    {
      "cell_type": "markdown",
      "source": [
        "15) Efetuar o cálculo e a apresentação do valor de uma prestação em atraso, utilizando a fórmula  PRESTACAO = VALOR + (VALOR * TAXA/100) * TEMPO)."
      ],
      "metadata": {
        "id": "veMPQYR6Is1u"
      }
    },
    {
      "cell_type": "code",
      "source": [],
      "metadata": {
        "id": "dmtcH_rHIwUk"
      },
      "execution_count": null,
      "outputs": []
    },
    {
      "cell_type": "markdown",
      "source": [
        "16) Elaborar um programa que calcule e apresente o volume de uma caixa retangular, por meio da fórmula\n",
        "VOLUME = COMPRIMENTO * LARGURA * ALTURA."
      ],
      "metadata": {
        "id": "FWjoT_18IxXI"
      }
    },
    {
      "cell_type": "code",
      "source": [],
      "metadata": {
        "id": "4RS1a9KnI79B"
      },
      "execution_count": null,
      "outputs": []
    },
    {
      "cell_type": "markdown",
      "source": [
        "17) Elaborar um programa que efetue a apresentação do valor da conversão em real de um valor lido em\n",
        "dólar. O programa deve solicitar o valor da cotação do dólar e também a quantidade de dólares disponível com o usuário, para que seja apresentado o valor em moeda brasileira."
      ],
      "metadata": {
        "id": "r0TZGkUfI8kp"
      }
    },
    {
      "cell_type": "code",
      "source": [],
      "metadata": {
        "id": "KIkalXjFJCUu"
      },
      "execution_count": null,
      "outputs": []
    },
    {
      "cell_type": "markdown",
      "source": [
        "18) Elaborar um programa que efetue a apresentação do valor da conversão em dólar de um valor lido em\n",
        "real. O programa deve solicitar o valor da cotação do dólar e também a quantidade de reais disponível com o usuário, para que seja apresentado o valor em moeda americana."
      ],
      "metadata": {
        "id": "uyVSSE40JDJz"
      }
    },
    {
      "cell_type": "code",
      "source": [],
      "metadata": {
        "id": "38gE4oOWJI2b"
      },
      "execution_count": null,
      "outputs": []
    }
  ]
}